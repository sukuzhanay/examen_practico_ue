{
 "cells": [
  {
   "cell_type": "markdown",
   "metadata": {},
   "source": [
    "# REPASO EXAMEN FINAL PCD"
   ]
  },
  {
   "cell_type": "markdown",
   "metadata": {},
   "source": [
    "0.-Verifique si tiene Docker, que version ?, para evitar \"*manchar su equipo*\", ejecute un Docker container (U4-U5), con el objeto de evitar fallos de instalacion y librerias al trabajar con  Cloud Computing\n"
   ]
  },
  {
   "cell_type": "markdown",
   "metadata": {},
   "source": [
    "1.- Verifique que tiene instalado Python > 3.xx e imprima el compilador y la implenetacion que usa \"su Python\""
   ]
  },
  {
   "cell_type": "markdown",
   "metadata": {},
   "source": [
    "2.- Instale e importe pyrebase"
   ]
  },
  {
   "cell_type": "markdown",
   "metadata": {},
   "source": [
    "3.- Cree un proyecto y una aplicación en el Cloud / Concretamente en la plataforma Firebase, con el nombre: *su_nombreexp* para ambos, cree una base de datos de tipo clave valor en tiempo real, active la autentificacion por email, reserve espacio de almacenamiento remoto, todo lo anterior en un cluster en la nube mas cercano a nuestro país"
   ]
  },
  {
   "cell_type": "markdown",
   "metadata": {},
   "source": [
    "4.- Guarde las credenciales en variable llamada : *su_nombre_numexp* , imprima la respuesta ( vaya al link) , adjunte captura ( mediante IPython) e imprima el directorio de trabajo."
   ]
  },
  {
   "cell_type": "markdown",
   "metadata": {},
   "source": [
    "5.- Conectese, initialize una App, de qué tipo es el contenido de la variable ???, todo esto desde pyhton, el nombre que debera usar es: *sunombreexp*"
   ]
  },
  {
   "cell_type": "markdown",
   "metadata": {},
   "source": [
    "6.- Cree su usuario, *user = email, clave=exp*, imprime el result"
   ]
  },
  {
   "cell_type": "markdown",
   "metadata": {},
   "source": [
    "6.1.- Autentifiquese (confirme que el correo es real) mediante la recepcion de un token a su cuenta de correo, adjunte captura, mediante \"display\""
   ]
  },
  {
   "cell_type": "markdown",
   "metadata": {},
   "source": [
    "7.- Guarde su token en una BBDD, noSql de la familia : clave valor, bajo el formato: *grupo/user_id/*"
   ]
  },
  {
   "cell_type": "markdown",
   "metadata": {},
   "source": [
    "8.- Descargue su \"nomina\" del siguiente storage / bucket( busque por su expediente ) nombre_expediente"
   ]
  },
  {
   "cell_type": "markdown",
   "metadata": {},
   "source": [
    "9.- Guarde todo el texto obtenido, bajo el nombre *ocr* dentro de su child"
   ]
  },
  {
   "cell_type": "markdown",
   "metadata": {},
   "source": [
    "10.- Descargue la imagen Docker indicada por el profesor y subala a su Storage"
   ]
  }
 ],
 "metadata": {
  "kernelspec": {
   "display_name": "Python 3",
   "language": "python",
   "name": "python3"
  },
  "language_info": {
   "codemirror_mode": {
    "name": "ipython",
    "version": 3
   },
   "file_extension": ".py",
   "mimetype": "text/x-python",
   "name": "python",
   "nbconvert_exporter": "python",
   "pygments_lexer": "ipython3",
   "version": "3.8.5"
  },
  "widgets": {
   "application/vnd.jupyter.widget-state+json": {
    "state": {},
    "version_major": 2,
    "version_minor": 0
   }
  }
 },
 "nbformat": 4,
 "nbformat_minor": 4
}
